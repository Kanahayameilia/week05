{
  "nbformat": 4,
  "nbformat_minor": 0,
  "metadata": {
    "colab": {
      "provenance": [],
      "authorship_tag": "ABX9TyPOfP/GCSwR/sXQkU35wsMc",
      "include_colab_link": true
    },
    "kernelspec": {
      "name": "python3",
      "display_name": "Python 3"
    },
    "language_info": {
      "name": "python"
    }
  },
  "cells": [
    {
      "cell_type": "markdown",
      "metadata": {
        "id": "view-in-github",
        "colab_type": "text"
      },
      "source": [
        "<a href=\"https://colab.research.google.com/github/Kanahayameilia/week05/blob/main/week05.ipynb\" target=\"_parent\"><img src=\"https://colab.research.google.com/assets/colab-badge.svg\" alt=\"Open In Colab\"/></a>"
      ]
    },
    {
      "cell_type": "markdown",
      "source": [
        "Perulangan bersarang dalam bahasa pemrogramman python\n",
        "Pada bab ini akan mempelajari bagaimana menggunakan kondisi perulangan berasarang di dalam bahasa pemrogramman python.\n",
        "Pernyataan bersarang dala python adalah penggunaan pernyataan if didalam penggunaan pernyataan if lain, dengan ataupun tampa blok else. Dalam beberapa kasus atau sebuah persoalan penyelesaian sebuah program kita memerlukan perulangan bersarang untuk membuat keseluruhan alur program menjadi mudah dibaca.\n"
      ],
      "metadata": {
        "id": "G8ENsZ5dVi0G"
      }
    },
    {
      "cell_type": "code",
      "source": [
        "rows = 5\n",
        "for i in range(1, rows + 1):\n",
        "    for j in range(i):\n",
        "        print('*', end='')\n",
        "    print()\n",
        "print()"
      ],
      "metadata": {
        "colab": {
          "base_uri": "https://localhost:8080/"
        },
        "id": "hsVukcF2fYT4",
        "outputId": "8b270c32-daae-4c7a-fca7-b9d54587c6de"
      },
      "execution_count": 2,
      "outputs": [
        {
          "output_type": "stream",
          "name": "stdout",
          "text": [
            "*\n",
            "**\n",
            "***\n",
            "****\n",
            "*****\n",
            "\n"
          ]
        }
      ]
    },
    {
      "cell_type": "code",
      "execution_count": 3,
      "metadata": {
        "colab": {
          "base_uri": "https://localhost:8080/"
        },
        "id": "Ywg-xrc4Tbcc",
        "outputId": "d41bcd2e-9f3c-48ca-d8f2-a243b9d81133"
      },
      "outputs": [
        {
          "output_type": "stream",
          "name": "stdout",
          "text": [
            "Bilangan positif\n"
          ]
        }
      ],
      "source": [
        "#Berikut contoh penggunaan Perulangan bersarang dalam python.\n",
        "\n",
        "num = 8\n",
        "\n",
        "if num > 0:\n",
        "  print (\"Bilangan positif\")\n",
        "else:\n",
        "  if num < 0:\n",
        "    print (\"Bilangan negatif\")\n",
        "  else:\n",
        "    print (\"Bilangan nol\")"
      ]
    },
    {
      "cell_type": "code",
      "source": [
        "age = 12\n",
        "\n",
        "if age >=60:\n",
        "  print(\"senior citizen\")\n",
        "else:\n",
        "  if age >=18:\n",
        "    print(\"adult\")\n",
        "  else:\n",
        "    if age >=13:\n",
        "      print(\"teenager\")\n",
        "    else:\n",
        "      print(\"child\")"
      ],
      "metadata": {
        "colab": {
          "base_uri": "https://localhost:8080/"
        },
        "id": "twPYpYw6aHT8",
        "outputId": "1e0ade20-8b4f-47eb-8247-cda2450be5cf"
      },
      "execution_count": 4,
      "outputs": [
        {
          "output_type": "stream",
          "name": "stdout",
          "text": [
            "child\n"
          ]
        }
      ]
    },
    {
      "cell_type": "code",
      "source": [
        "tahun = int(input(\"Masukkan Tahun: \"))\n",
        "if (tahun % 4 == 0):\n",
        "  if (tahun % 100 == 0):\n",
        "    if (tahun % 400 == 0):\n",
        "      print(tahun, \"adalah tahun kabisat\")\n",
        "    else:\n",
        "      print(tahun, \"bukan tahun kabisat\")\n",
        "  else:\n",
        "    print(tahun, \"adalah tahun kabisat\")\n",
        "else:\n",
        "  print(tahun, \"bukan tahun kabisat\")"
      ],
      "metadata": {
        "colab": {
          "base_uri": "https://localhost:8080/"
        },
        "id": "L9o0Nv5TZohs",
        "outputId": "6cacc133-2886-4483-bb8a-dcf38aada0c9"
      },
      "execution_count": 6,
      "outputs": [
        {
          "output_type": "stream",
          "name": "stdout",
          "text": [
            "Masukkan Tahun: 1896\n",
            "1896 adalah tahun kabisat\n"
          ]
        }
      ]
    },
    {
      "cell_type": "code",
      "source": [
        "#Weekly Exercise 2\n",
        "a = float(input(\"Masukkan Nilai Pertama: \"))\n",
        "b = float(input(\"Masukkan Nilai Kedua: \"))\n",
        "c = float(input(\"Masukkan Nilai Ketiga: \"))\n",
        "\n",
        "if a > b:\n",
        "  a,b = b,a\n",
        "if a > c:\n",
        "  a,c = c,a\n",
        "if b > c:\n",
        "  b,c = c,b\n",
        "\n",
        "print(a, \"<\", b, \"<\",c)"
      ],
      "metadata": {
        "colab": {
          "base_uri": "https://localhost:8080/"
        },
        "id": "3VJog8MqeiAs",
        "outputId": "f1f90dae-e82c-4ecd-fab0-b22d573ea560"
      },
      "execution_count": 7,
      "outputs": [
        {
          "output_type": "stream",
          "name": "stdout",
          "text": [
            "Masukkan Nilai Pertama: 20\n",
            "Masukkan Nilai Kedua: 6\n",
            "Masukkan Nilai Ketiga: 190\n",
            "6.0 < 20.0 < 190.0\n"
          ]
        }
      ]
    },
    {
      "cell_type": "code",
      "source": [
        "#Weekly Exercise 3\n",
        "jumlah_bayar = float(input(\"Masukkan Jumlah Bayar: \"))\n",
        "member = input(\"Apakah Member? (Ya/Tidak): \").lower() == \"ya\"\n",
        "\n",
        "# Hitung diskon berdasarkan jumlah bayar\n",
        "if jumlah_bayar >= 200000:\n",
        "    diskon = 0.04\n",
        "elif jumlah_bayar >= 100000:\n",
        "    diskon = 0.03\n",
        "else:\n",
        "    diskon = 0\n",
        "\n",
        "# Tambahkan diskon member jika berlaku\n",
        "if member:\n",
        "    diskon += 0.02\n",
        "\n",
        "# Hitung jumlah diskon dan total bayar\n",
        "banyak_diskon = jumlah_bayar * diskon\n",
        "total_bayar = jumlah_bayar - banyak_diskon\n",
        "\n",
        "print(\"Jumlah Diskon:\", banyak_diskon)\n",
        "print(\"Total Bayar:\", total_bayar)"
      ],
      "metadata": {
        "colab": {
          "base_uri": "https://localhost:8080/"
        },
        "id": "7NW6-Euzf_zk",
        "outputId": "1df7afd9-e60a-4f06-dff4-61bd84603992"
      },
      "execution_count": 8,
      "outputs": [
        {
          "output_type": "stream",
          "name": "stdout",
          "text": [
            "Masukkan Jumlah Bayar: 200000\n",
            "Apakah Member? (Ya/Tidak): ya\n",
            "Jumlah Diskon: 12000.0\n",
            "Total Bayar: 188000.0\n"
          ]
        }
      ]
    },
    {
      "cell_type": "code",
      "source": [
        "#Weekly Exercise 4\n",
        "\n",
        "username = input(\"Username: \")\n",
        "email = input(\"Email: \")\n",
        "password = input(\"Password: \")\n",
        "\n",
        "if username and \"@\" in email and len(password) > 8:\n",
        "  print(\"User berhasil dibuat!\")\n",
        "else:\n",
        "  print(\"Gagal membuat user. Periksa kembali input Anda.\")"
      ],
      "metadata": {
        "id": "81JkGxbpgDTE",
        "colab": {
          "base_uri": "https://localhost:8080/"
        },
        "outputId": "f0bf8ddc-3682-444c-83bc-eaf328d8eb35"
      },
      "execution_count": null,
      "outputs": [
        {
          "output_type": "stream",
          "name": "stdout",
          "text": [
            "Username: atan\n",
            "Email: atanzoom9@gmail.com\n",
            "Password: qwerty123\n",
            "User berhasil dibuat!\n"
          ]
        }
      ]
    },
    {
      "cell_type": "code",
      "source": [
        "!git config --global user.name \"Kanahayameilia\"\n"
      ],
      "metadata": {
        "id": "WFZr6yxwuFyK"
      },
      "execution_count": 9,
      "outputs": []
    },
    {
      "cell_type": "code",
      "source": [
        "!git config --global user.email \"Kanahayameiliea@gmail.com\""
      ],
      "metadata": {
        "id": "QGqP4Lk4uWdf"
      },
      "execution_count": 10,
      "outputs": []
    },
    {
      "cell_type": "code",
      "source": [
        "!ls"
      ],
      "metadata": {
        "colab": {
          "base_uri": "https://localhost:8080/"
        },
        "id": "Vm3tfwmmu6gf",
        "outputId": "a6706099-0386-4eca-ede2-258ede695943"
      },
      "execution_count": 13,
      "outputs": [
        {
          "output_type": "stream",
          "name": "stdout",
          "text": [
            "sample_data  week05\n"
          ]
        }
      ]
    },
    {
      "cell_type": "code",
      "source": [
        "%cd week05\n",
        "\n"
      ],
      "metadata": {
        "colab": {
          "base_uri": "https://localhost:8080/"
        },
        "id": "WzTQt-2Ru--p",
        "outputId": "d1f66b9f-d2a1-4972-e036-8f4f6d0c0dd9"
      },
      "execution_count": 14,
      "outputs": [
        {
          "output_type": "stream",
          "name": "stdout",
          "text": [
            "/content/week05\n"
          ]
        }
      ]
    },
    {
      "cell_type": "code",
      "source": [
        "!pwd"
      ],
      "metadata": {
        "colab": {
          "base_uri": "https://localhost:8080/"
        },
        "id": "23ELfI8TvE2a",
        "outputId": "faed5c40-a783-4fca-cc27-d270ae9e69ab"
      },
      "execution_count": 15,
      "outputs": [
        {
          "output_type": "stream",
          "name": "stdout",
          "text": [
            "/content/week05\n"
          ]
        }
      ]
    },
    {
      "cell_type": "code",
      "source": [
        "!echo “# Some dummy text” >> new.md\n",
        "\n"
      ],
      "metadata": {
        "id": "ao6BhISxvGmT"
      },
      "execution_count": 16,
      "outputs": []
    },
    {
      "cell_type": "code",
      "source": [
        "!git status"
      ],
      "metadata": {
        "colab": {
          "base_uri": "https://localhost:8080/"
        },
        "id": "Y_9QXf67vKZQ",
        "outputId": "dc61a268-dfca-405d-e4f2-0a2f36b51895"
      },
      "execution_count": 17,
      "outputs": [
        {
          "output_type": "stream",
          "name": "stdout",
          "text": [
            "On branch main\n",
            "\n",
            "No commits yet\n",
            "\n",
            "Untracked files:\n",
            "  (use \"git add <file>...\" to include in what will be committed)\n",
            "\t\u001b[31mnew.md\u001b[m\n",
            "\n",
            "nothing added to commit but untracked files present (use \"git add\" to track)\n"
          ]
        }
      ]
    },
    {
      "cell_type": "code",
      "source": [
        "!git add ."
      ],
      "metadata": {
        "id": "xMfO89EXvN1f"
      },
      "execution_count": 18,
      "outputs": []
    },
    {
      "cell_type": "code",
      "source": [
        "!git commit -m 'relevant message'"
      ],
      "metadata": {
        "colab": {
          "base_uri": "https://localhost:8080/"
        },
        "id": "skn-uy46vSUL",
        "outputId": "4a34b1ca-a3c6-4d15-ec2c-2a6e17dd504d"
      },
      "execution_count": 21,
      "outputs": [
        {
          "output_type": "stream",
          "name": "stdout",
          "text": [
            "[main (root-commit) 8cf55c5] relevant message\n",
            " 1 file changed, 1 insertion(+)\n",
            " create mode 100644 new.md\n"
          ]
        }
      ]
    },
    {
      "cell_type": "code",
      "source": [
        "!git add new.md"
      ],
      "metadata": {
        "id": "1Xw9oBjUvsCH"
      },
      "execution_count": 24,
      "outputs": []
    },
    {
      "cell_type": "code",
      "source": [
        "!git commit -m '2nd message'"
      ],
      "metadata": {
        "colab": {
          "base_uri": "https://localhost:8080/"
        },
        "id": "BZk7vpPZwUpb",
        "outputId": "74550da7-6ff7-4d78-8813-355d43ff1e8a"
      },
      "execution_count": 25,
      "outputs": [
        {
          "output_type": "stream",
          "name": "stdout",
          "text": [
            "On branch main\n",
            "Your branch is based on 'origin/main', but the upstream is gone.\n",
            "  (use \"git branch --unset-upstream\" to fixup)\n",
            "\n",
            "nothing to commit, working tree clean\n"
          ]
        }
      ]
    },
    {
      "cell_type": "code",
      "source": [
        "!git push"
      ],
      "metadata": {
        "colab": {
          "base_uri": "https://localhost:8080/"
        },
        "id": "CquWkFCswYkD",
        "outputId": "793d2a89-3931-4211-9d34-7f9dcb1c12d0"
      },
      "execution_count": 26,
      "outputs": [
        {
          "output_type": "stream",
          "name": "stdout",
          "text": [
            "Enumerating objects: 3, done.\n",
            "Counting objects:  33% (1/3)\rCounting objects:  66% (2/3)\rCounting objects: 100% (3/3)\rCounting objects: 100% (3/3), done.\n",
            "Writing objects:  33% (1/3)\rWriting objects:  66% (2/3)\rWriting objects: 100% (3/3)\rWriting objects: 100% (3/3), 239 bytes | 239.00 KiB/s, done.\n",
            "Total 3 (delta 0), reused 0 (delta 0), pack-reused 0\n",
            "To https://github.com/Kanahayameilia/week05.git\n",
            " * [new branch]      main -> main\n"
          ]
        }
      ]
    }
  ]
}